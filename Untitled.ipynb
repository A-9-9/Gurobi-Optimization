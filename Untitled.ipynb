{
 "cells": [
  {
   "cell_type": "code",
   "execution_count": 1,
   "id": "cc5ea18c",
   "metadata": {},
   "outputs": [],
   "source": [
    "import pandas as pd\n",
    "import copy\n",
    "import numpy as np\n",
    "\n",
    "from MV_S_previous_data import fn\n",
    "df = pd.read_excel('Naive_S_P500.xlsx', sheet_name='return')"
   ]
  },
  {
   "cell_type": "code",
   "execution_count": 2,
   "id": "521290e4",
   "metadata": {},
   "outputs": [
    {
     "data": {
      "text/html": [
       "<div>\n",
       "<style scoped>\n",
       "    .dataframe tbody tr th:only-of-type {\n",
       "        vertical-align: middle;\n",
       "    }\n",
       "\n",
       "    .dataframe tbody tr th {\n",
       "        vertical-align: top;\n",
       "    }\n",
       "\n",
       "    .dataframe thead th {\n",
       "        text-align: right;\n",
       "    }\n",
       "</style>\n",
       "<table border=\"1\" class=\"dataframe\">\n",
       "  <thead>\n",
       "    <tr style=\"text-align: right;\">\n",
       "      <th></th>\n",
       "      <th>Unnamed: 0</th>\n",
       "      <th>Date</th>\n",
       "      <th>AMAZON.COM</th>\n",
       "      <th>ABBOTT LABORATORIES</th>\n",
       "      <th>AES</th>\n",
       "      <th>ABIOMED</th>\n",
       "      <th>INTERNATIONAL BUS.MCHS.</th>\n",
       "      <th>ADVANCED MICRO DEVC.</th>\n",
       "      <th>ADOBE SYSTEMS</th>\n",
       "      <th>ALEXANDRIA RLST.EQTIES.</th>\n",
       "      <th>...</th>\n",
       "      <th>DENTSPLY SIRONA</th>\n",
       "      <th>S&amp;P GLOBAL</th>\n",
       "      <th>WELLTOWER</th>\n",
       "      <th>XEROX</th>\n",
       "      <th>HP</th>\n",
       "      <th>DXC TECHNOLOGY</th>\n",
       "      <th>WEC ENERGY GROUP</th>\n",
       "      <th>L3 TECHNOLOGIES</th>\n",
       "      <th>MONSTER BEVERAGE</th>\n",
       "      <th>SBA COMMS.</th>\n",
       "    </tr>\n",
       "  </thead>\n",
       "  <tbody>\n",
       "    <tr>\n",
       "      <th>0</th>\n",
       "      <td>60</td>\n",
       "      <td>2006-03-27</td>\n",
       "      <td>35.25</td>\n",
       "      <td>20.7944</td>\n",
       "      <td>16.93</td>\n",
       "      <td>13.13</td>\n",
       "      <td>83.08</td>\n",
       "      <td>35.33</td>\n",
       "      <td>35.79</td>\n",
       "      <td>94.61</td>\n",
       "      <td>...</td>\n",
       "      <td>28.710</td>\n",
       "      <td>56.99</td>\n",
       "      <td>37.13</td>\n",
       "      <td>39.6243</td>\n",
       "      <td>15.0321</td>\n",
       "      <td>20.7603</td>\n",
       "      <td>20.00</td>\n",
       "      <td>82.0495</td>\n",
       "      <td>5.0470</td>\n",
       "      <td>24.19</td>\n",
       "    </tr>\n",
       "    <tr>\n",
       "      <th>1</th>\n",
       "      <td>80</td>\n",
       "      <td>2006-04-24</td>\n",
       "      <td>35.79</td>\n",
       "      <td>19.6844</td>\n",
       "      <td>16.70</td>\n",
       "      <td>13.49</td>\n",
       "      <td>82.11</td>\n",
       "      <td>32.81</td>\n",
       "      <td>37.20</td>\n",
       "      <td>90.50</td>\n",
       "      <td>...</td>\n",
       "      <td>29.505</td>\n",
       "      <td>57.45</td>\n",
       "      <td>35.06</td>\n",
       "      <td>36.8843</td>\n",
       "      <td>14.9368</td>\n",
       "      <td>21.3689</td>\n",
       "      <td>19.64</td>\n",
       "      <td>81.8002</td>\n",
       "      <td>5.8354</td>\n",
       "      <td>23.73</td>\n",
       "    </tr>\n",
       "    <tr>\n",
       "      <th>2</th>\n",
       "      <td>100</td>\n",
       "      <td>2006-05-22</td>\n",
       "      <td>34.83</td>\n",
       "      <td>19.9763</td>\n",
       "      <td>18.03</td>\n",
       "      <td>12.12</td>\n",
       "      <td>80.02</td>\n",
       "      <td>33.18</td>\n",
       "      <td>29.91</td>\n",
       "      <td>84.95</td>\n",
       "      <td>...</td>\n",
       "      <td>29.875</td>\n",
       "      <td>51.74</td>\n",
       "      <td>33.52</td>\n",
       "      <td>36.0939</td>\n",
       "      <td>14.6099</td>\n",
       "      <td>20.1700</td>\n",
       "      <td>19.71</td>\n",
       "      <td>77.3309</td>\n",
       "      <td>7.4308</td>\n",
       "      <td>20.60</td>\n",
       "    </tr>\n",
       "    <tr>\n",
       "      <th>3</th>\n",
       "      <td>120</td>\n",
       "      <td>2006-06-19</td>\n",
       "      <td>35.07</td>\n",
       "      <td>20.2490</td>\n",
       "      <td>16.91</td>\n",
       "      <td>12.36</td>\n",
       "      <td>77.67</td>\n",
       "      <td>24.95</td>\n",
       "      <td>28.78</td>\n",
       "      <td>84.48</td>\n",
       "      <td>...</td>\n",
       "      <td>29.515</td>\n",
       "      <td>51.70</td>\n",
       "      <td>34.28</td>\n",
       "      <td>35.9886</td>\n",
       "      <td>15.2410</td>\n",
       "      <td>20.2173</td>\n",
       "      <td>19.64</td>\n",
       "      <td>71.6531</td>\n",
       "      <td>6.6146</td>\n",
       "      <td>22.23</td>\n",
       "    </tr>\n",
       "    <tr>\n",
       "      <th>4</th>\n",
       "      <td>140</td>\n",
       "      <td>2006-07-17</td>\n",
       "      <td>33.67</td>\n",
       "      <td>21.2825</td>\n",
       "      <td>19.75</td>\n",
       "      <td>12.42</td>\n",
       "      <td>73.70</td>\n",
       "      <td>20.92</td>\n",
       "      <td>27.59</td>\n",
       "      <td>89.65</td>\n",
       "      <td>...</td>\n",
       "      <td>29.230</td>\n",
       "      <td>48.82</td>\n",
       "      <td>34.73</td>\n",
       "      <td>35.9095</td>\n",
       "      <td>14.1650</td>\n",
       "      <td>18.4682</td>\n",
       "      <td>20.27</td>\n",
       "      <td>71.0585</td>\n",
       "      <td>7.8583</td>\n",
       "      <td>22.66</td>\n",
       "    </tr>\n",
       "  </tbody>\n",
       "</table>\n",
       "<p>5 rows × 398 columns</p>\n",
       "</div>"
      ],
      "text/plain": [
       "   Unnamed: 0       Date  AMAZON.COM  ABBOTT LABORATORIES    AES  ABIOMED  \\\n",
       "0          60 2006-03-27       35.25              20.7944  16.93    13.13   \n",
       "1          80 2006-04-24       35.79              19.6844  16.70    13.49   \n",
       "2         100 2006-05-22       34.83              19.9763  18.03    12.12   \n",
       "3         120 2006-06-19       35.07              20.2490  16.91    12.36   \n",
       "4         140 2006-07-17       33.67              21.2825  19.75    12.42   \n",
       "\n",
       "   INTERNATIONAL BUS.MCHS.  ADVANCED MICRO DEVC.  ADOBE SYSTEMS  \\\n",
       "0                    83.08                 35.33          35.79   \n",
       "1                    82.11                 32.81          37.20   \n",
       "2                    80.02                 33.18          29.91   \n",
       "3                    77.67                 24.95          28.78   \n",
       "4                    73.70                 20.92          27.59   \n",
       "\n",
       "   ALEXANDRIA RLST.EQTIES.  ...  DENTSPLY SIRONA  S&P GLOBAL  WELLTOWER  \\\n",
       "0                    94.61  ...           28.710       56.99      37.13   \n",
       "1                    90.50  ...           29.505       57.45      35.06   \n",
       "2                    84.95  ...           29.875       51.74      33.52   \n",
       "3                    84.48  ...           29.515       51.70      34.28   \n",
       "4                    89.65  ...           29.230       48.82      34.73   \n",
       "\n",
       "     XEROX       HP  DXC TECHNOLOGY  WEC ENERGY GROUP  L3 TECHNOLOGIES  \\\n",
       "0  39.6243  15.0321         20.7603             20.00          82.0495   \n",
       "1  36.8843  14.9368         21.3689             19.64          81.8002   \n",
       "2  36.0939  14.6099         20.1700             19.71          77.3309   \n",
       "3  35.9886  15.2410         20.2173             19.64          71.6531   \n",
       "4  35.9095  14.1650         18.4682             20.27          71.0585   \n",
       "\n",
       "   MONSTER BEVERAGE  SBA COMMS.  \n",
       "0            5.0470       24.19  \n",
       "1            5.8354       23.73  \n",
       "2            7.4308       20.60  \n",
       "3            6.6146       22.23  \n",
       "4            7.8583       22.66  \n",
       "\n",
       "[5 rows x 398 columns]"
      ]
     },
     "execution_count": 2,
     "metadata": {},
     "output_type": "execute_result"
    }
   ],
   "source": [
    "df = pd.read_excel('Naive_S_P500.xlsx', sheet_name='price')\n",
    "df.head()"
   ]
  },
  {
   "cell_type": "code",
   "execution_count": 3,
   "id": "75d3b580",
   "metadata": {},
   "outputs": [
    {
     "data": {
      "text/html": [
       "<div>\n",
       "<style scoped>\n",
       "    .dataframe tbody tr th:only-of-type {\n",
       "        vertical-align: middle;\n",
       "    }\n",
       "\n",
       "    .dataframe tbody tr th {\n",
       "        vertical-align: top;\n",
       "    }\n",
       "\n",
       "    .dataframe thead th {\n",
       "        text-align: right;\n",
       "    }\n",
       "</style>\n",
       "<table border=\"1\" class=\"dataframe\">\n",
       "  <thead>\n",
       "    <tr style=\"text-align: right;\">\n",
       "      <th></th>\n",
       "      <th>AMAZON.COM</th>\n",
       "      <th>ABBOTT LABORATORIES</th>\n",
       "      <th>AES</th>\n",
       "      <th>ABIOMED</th>\n",
       "      <th>INTERNATIONAL BUS.MCHS.</th>\n",
       "      <th>ADVANCED MICRO DEVC.</th>\n",
       "      <th>ADOBE SYSTEMS</th>\n",
       "      <th>ALEXANDRIA RLST.EQTIES.</th>\n",
       "      <th>AIR PRDS.&amp; CHEMS.</th>\n",
       "      <th>ALASKA AIR GROUP</th>\n",
       "      <th>...</th>\n",
       "      <th>DENTSPLY SIRONA</th>\n",
       "      <th>S&amp;P GLOBAL</th>\n",
       "      <th>WELLTOWER</th>\n",
       "      <th>XEROX</th>\n",
       "      <th>HP</th>\n",
       "      <th>DXC TECHNOLOGY</th>\n",
       "      <th>WEC ENERGY GROUP</th>\n",
       "      <th>L3 TECHNOLOGIES</th>\n",
       "      <th>MONSTER BEVERAGE</th>\n",
       "      <th>SBA COMMS.</th>\n",
       "    </tr>\n",
       "  </thead>\n",
       "  <tbody>\n",
       "    <tr>\n",
       "      <th>0</th>\n",
       "      <td>35.25</td>\n",
       "      <td>20.7944</td>\n",
       "      <td>16.93</td>\n",
       "      <td>13.13</td>\n",
       "      <td>83.08</td>\n",
       "      <td>35.33</td>\n",
       "      <td>35.79</td>\n",
       "      <td>94.61</td>\n",
       "      <td>61.2574</td>\n",
       "      <td>8.7525</td>\n",
       "      <td>...</td>\n",
       "      <td>28.71</td>\n",
       "      <td>56.99</td>\n",
       "      <td>37.13</td>\n",
       "      <td>39.6243</td>\n",
       "      <td>15.0321</td>\n",
       "      <td>20.7603</td>\n",
       "      <td>20.0</td>\n",
       "      <td>82.0495</td>\n",
       "      <td>5.047</td>\n",
       "      <td>24.19</td>\n",
       "    </tr>\n",
       "  </tbody>\n",
       "</table>\n",
       "<p>1 rows × 396 columns</p>\n",
       "</div>"
      ],
      "text/plain": [
       "   AMAZON.COM  ABBOTT LABORATORIES    AES  ABIOMED  INTERNATIONAL BUS.MCHS.  \\\n",
       "0       35.25              20.7944  16.93    13.13                    83.08   \n",
       "\n",
       "   ADVANCED MICRO DEVC.  ADOBE SYSTEMS  ALEXANDRIA RLST.EQTIES.  \\\n",
       "0                 35.33          35.79                    94.61   \n",
       "\n",
       "   AIR PRDS.& CHEMS.  ALASKA AIR GROUP  ...  DENTSPLY SIRONA  S&P GLOBAL  \\\n",
       "0            61.2574            8.7525  ...            28.71       56.99   \n",
       "\n",
       "   WELLTOWER    XEROX       HP  DXC TECHNOLOGY  WEC ENERGY GROUP  \\\n",
       "0      37.13  39.6243  15.0321         20.7603              20.0   \n",
       "\n",
       "   L3 TECHNOLOGIES  MONSTER BEVERAGE  SBA COMMS.  \n",
       "0          82.0495             5.047       24.19  \n",
       "\n",
       "[1 rows x 396 columns]"
      ]
     },
     "execution_count": 3,
     "metadata": {},
     "output_type": "execute_result"
    }
   ],
   "source": [
    "ret = copy.deepcopy(df.drop(columns=['Unnamed: 0']))\n",
    "ret = ret.iloc[0:1, 1:397]\n",
    "ret.head()\n"
   ]
  },
  {
   "cell_type": "code",
   "execution_count": 17,
   "id": "642724f6",
   "metadata": {},
   "outputs": [
    {
     "data": {
      "text/plain": [
       "(1, 396)"
      ]
     },
     "execution_count": 17,
     "metadata": {},
     "output_type": "execute_result"
    }
   ],
   "source": [
    "ret.shape"
   ]
  },
  {
   "cell_type": "code",
   "execution_count": 5,
   "id": "99c4d6b8",
   "metadata": {},
   "outputs": [
    {
     "data": {
      "text/plain": [
       "20.7944"
      ]
     },
     "execution_count": 5,
     "metadata": {},
     "output_type": "execute_result"
    }
   ],
   "source": [
    "ret.iloc[0, 1]"
   ]
  },
  {
   "cell_type": "code",
   "execution_count": 6,
   "id": "7133d12b",
   "metadata": {},
   "outputs": [
    {
     "data": {
      "text/plain": [
       "numpy.float64"
      ]
     },
     "execution_count": 6,
     "metadata": {},
     "output_type": "execute_result"
    }
   ],
   "source": [
    "type(ret.iloc[0, 1])"
   ]
  },
  {
   "cell_type": "code",
   "execution_count": 8,
   "id": "9b88a5b7",
   "metadata": {},
   "outputs": [
    {
     "data": {
      "text/plain": [
       "(1, 396)"
      ]
     },
     "execution_count": 8,
     "metadata": {},
     "output_type": "execute_result"
    }
   ],
   "source": [
    "ret.shape"
   ]
  },
  {
   "cell_type": "code",
   "execution_count": 19,
   "id": "f5b45e0c",
   "metadata": {},
   "outputs": [
    {
     "data": {
      "text/plain": [
       "24.19"
      ]
     },
     "execution_count": 19,
     "metadata": {},
     "output_type": "execute_result"
    }
   ],
   "source": [
    "ret.iloc[0, 395]"
   ]
  },
  {
   "cell_type": "code",
   "execution_count": null,
   "id": "80234593",
   "metadata": {},
   "outputs": [],
   "source": []
  },
  {
   "cell_type": "code",
   "execution_count": null,
   "id": "518dd6e1",
   "metadata": {},
   "outputs": [],
   "source": []
  },
  {
   "cell_type": "code",
   "execution_count": 24,
   "id": "8f9c0d0b",
   "metadata": {},
   "outputs": [
    {
     "data": {
      "text/plain": [
       "{}"
      ]
     },
     "execution_count": 24,
     "metadata": {},
     "output_type": "execute_result"
    }
   ],
   "source": [
    "w1, w2 = {}, {}\n",
    "w1"
   ]
  },
  {
   "cell_type": "code",
   "execution_count": 25,
   "id": "2b1e2611",
   "metadata": {},
   "outputs": [
    {
     "data": {
      "text/plain": [
       "{}"
      ]
     },
     "execution_count": 25,
     "metadata": {},
     "output_type": "execute_result"
    }
   ],
   "source": [
    "w2"
   ]
  },
  {
   "cell_type": "code",
   "execution_count": 35,
   "id": "148e2e7e",
   "metadata": {},
   "outputs": [],
   "source": [
    "import pandas as pd\n",
    "import copy\n",
    "import numpy as np\n",
    "\n",
    "df = pd.read_excel('Naive_S_P500.xlsx', sheet_name='return')\n",
    "ret = copy.deepcopy(df.drop(columns=['Unnamed: 0']))\n",
    "ret = ret.iloc[:, 1:397]\n",
    "\n",
    "df = pd.read_excel('Naive_S_P500.xlsx', sheet_name='price')\n",
    "price = copy.deepcopy(df.drop(columns=['Unnamed: 0']))\n",
    "price = price.iloc[0:1, 1:397]\n",
    "\n",
    "n = [i for i in range(396)]\n",
    "cov = ret.cov()\n",
    "var = ret.var()\n",
    "mean = ret.mean()\n",
    "\n",
    "# Mission: Calculate the previous weight -> w[i] = w[i-1] * price[i]\n",
    "w_buy_b4_calc, w_minus_b4_calc = [x for x in range(396)], [x for x in range(396)]\n",
    "\n",
    "# w_buy_b4_calc: 1*n\n",
    "w_buy_cur = {}\n",
    "w_minus_cur = {}\n",
    "\n",
    "# for i in range(396):\n",
    "#     w_buy_cur[i] = w_buy_b4_calc[i]*price.iloc[0, i]\n",
    "#     w_minus_cur[i] = w_minus_b4_calc[i]*price.iloc[0, i]"
   ]
  },
  {
   "cell_type": "code",
   "execution_count": 31,
   "id": "3d425ffd",
   "metadata": {},
   "outputs": [
    {
     "data": {
      "text/plain": [
       "395"
      ]
     },
     "execution_count": 31,
     "metadata": {},
     "output_type": "execute_result"
    }
   ],
   "source": [
    "# w_buy_cur[i] = w_buy_b4_calc[i]*price.iloc[0, i]\n",
    "# w_buy_cur[395]\n",
    "w_buy_b4_calc[i]"
   ]
  },
  {
   "cell_type": "code",
   "execution_count": 34,
   "id": "683a7500",
   "metadata": {},
   "outputs": [
    {
     "data": {
      "text/plain": [
       "(60, 396)"
      ]
     },
     "execution_count": 34,
     "metadata": {},
     "output_type": "execute_result"
    }
   ],
   "source": [
    "ret.shape"
   ]
  },
  {
   "cell_type": "raw",
   "id": "e909cefa",
   "metadata": {},
   "source": [
    "ret.shap"
   ]
  },
  {
   "cell_type": "raw",
   "id": "cdf6d63f",
   "metadata": {},
   "source": [
    "ret.head()"
   ]
  },
  {
   "cell_type": "code",
   "execution_count": 38,
   "id": "dda35eff",
   "metadata": {},
   "outputs": [
    {
     "data": {
      "text/html": [
       "<div>\n",
       "<style scoped>\n",
       "    .dataframe tbody tr th:only-of-type {\n",
       "        vertical-align: middle;\n",
       "    }\n",
       "\n",
       "    .dataframe tbody tr th {\n",
       "        vertical-align: top;\n",
       "    }\n",
       "\n",
       "    .dataframe thead th {\n",
       "        text-align: right;\n",
       "    }\n",
       "</style>\n",
       "<table border=\"1\" class=\"dataframe\">\n",
       "  <thead>\n",
       "    <tr style=\"text-align: right;\">\n",
       "      <th></th>\n",
       "      <th>AMAZON.COM</th>\n",
       "      <th>ABBOTT LABORATORIES</th>\n",
       "      <th>AES</th>\n",
       "      <th>ABIOMED</th>\n",
       "      <th>INTERNATIONAL BUS.MCHS.</th>\n",
       "      <th>ADVANCED MICRO DEVC.</th>\n",
       "      <th>ADOBE SYSTEMS</th>\n",
       "      <th>ALEXANDRIA RLST.EQTIES.</th>\n",
       "      <th>AIR PRDS.&amp; CHEMS.</th>\n",
       "      <th>ALASKA AIR GROUP</th>\n",
       "      <th>...</th>\n",
       "      <th>DENTSPLY SIRONA</th>\n",
       "      <th>S&amp;P GLOBAL</th>\n",
       "      <th>WELLTOWER</th>\n",
       "      <th>XEROX</th>\n",
       "      <th>HP</th>\n",
       "      <th>DXC TECHNOLOGY</th>\n",
       "      <th>WEC ENERGY GROUP</th>\n",
       "      <th>L3 TECHNOLOGIES</th>\n",
       "      <th>MONSTER BEVERAGE</th>\n",
       "      <th>SBA COMMS.</th>\n",
       "    </tr>\n",
       "  </thead>\n",
       "  <tbody>\n",
       "    <tr>\n",
       "      <th>0</th>\n",
       "      <td>0.009078</td>\n",
       "      <td>0.003038</td>\n",
       "      <td>0.023104</td>\n",
       "      <td>0.011834</td>\n",
       "      <td>-0.001705</td>\n",
       "      <td>0.057158</td>\n",
       "      <td>0.041341</td>\n",
       "      <td>0.022843</td>\n",
       "      <td>0.007071</td>\n",
       "      <td>-0.013245</td>\n",
       "      <td>...</td>\n",
       "      <td>0.006313</td>\n",
       "      <td>0.003673</td>\n",
       "      <td>0.018993</td>\n",
       "      <td>0.017592</td>\n",
       "      <td>0.004881</td>\n",
       "      <td>0.010801</td>\n",
       "      <td>0.021277</td>\n",
       "      <td>0.013493</td>\n",
       "      <td>0.050852</td>\n",
       "      <td>0.028636</td>\n",
       "    </tr>\n",
       "    <tr>\n",
       "      <th>1</th>\n",
       "      <td>-0.006960</td>\n",
       "      <td>0.001515</td>\n",
       "      <td>0.041710</td>\n",
       "      <td>0.028468</td>\n",
       "      <td>-0.001341</td>\n",
       "      <td>0.004926</td>\n",
       "      <td>-0.002599</td>\n",
       "      <td>0.003878</td>\n",
       "      <td>-0.011472</td>\n",
       "      <td>0.019664</td>\n",
       "      <td>...</td>\n",
       "      <td>0.009212</td>\n",
       "      <td>-0.003673</td>\n",
       "      <td>0.010652</td>\n",
       "      <td>-0.001342</td>\n",
       "      <td>0.028774</td>\n",
       "      <td>-0.007253</td>\n",
       "      <td>0.003253</td>\n",
       "      <td>0.006480</td>\n",
       "      <td>-0.006679</td>\n",
       "      <td>0.016155</td>\n",
       "    </tr>\n",
       "    <tr>\n",
       "      <th>2</th>\n",
       "      <td>0.008430</td>\n",
       "      <td>0.012797</td>\n",
       "      <td>-0.009518</td>\n",
       "      <td>-0.007303</td>\n",
       "      <td>0.006689</td>\n",
       "      <td>0.033820</td>\n",
       "      <td>-0.009152</td>\n",
       "      <td>0.012739</td>\n",
       "      <td>-0.008692</td>\n",
       "      <td>-0.010908</td>\n",
       "      <td>...</td>\n",
       "      <td>-0.011435</td>\n",
       "      <td>-0.000969</td>\n",
       "      <td>0.020409</td>\n",
       "      <td>-0.010803</td>\n",
       "      <td>-0.007114</td>\n",
       "      <td>0.075583</td>\n",
       "      <td>-0.004005</td>\n",
       "      <td>-0.006879</td>\n",
       "      <td>-0.011340</td>\n",
       "      <td>0.000000</td>\n",
       "    </tr>\n",
       "    <tr>\n",
       "      <th>3</th>\n",
       "      <td>0.004606</td>\n",
       "      <td>0.019009</td>\n",
       "      <td>0.016010</td>\n",
       "      <td>0.020726</td>\n",
       "      <td>0.029265</td>\n",
       "      <td>0.002965</td>\n",
       "      <td>0.024135</td>\n",
       "      <td>0.011399</td>\n",
       "      <td>0.023012</td>\n",
       "      <td>-0.008472</td>\n",
       "      <td>...</td>\n",
       "      <td>0.015461</td>\n",
       "      <td>0.016726</td>\n",
       "      <td>0.004200</td>\n",
       "      <td>-0.006131</td>\n",
       "      <td>0.028166</td>\n",
       "      <td>0.006547</td>\n",
       "      <td>0.007496</td>\n",
       "      <td>0.011746</td>\n",
       "      <td>0.050511</td>\n",
       "      <td>0.000534</td>\n",
       "    </tr>\n",
       "    <tr>\n",
       "      <th>4</th>\n",
       "      <td>-0.016641</td>\n",
       "      <td>0.036495</td>\n",
       "      <td>-0.017206</td>\n",
       "      <td>0.040206</td>\n",
       "      <td>-0.014466</td>\n",
       "      <td>-0.015814</td>\n",
       "      <td>-0.016023</td>\n",
       "      <td>0.012903</td>\n",
       "      <td>-0.012794</td>\n",
       "      <td>0.016036</td>\n",
       "      <td>...</td>\n",
       "      <td>0.009815</td>\n",
       "      <td>-0.017308</td>\n",
       "      <td>0.014149</td>\n",
       "      <td>0.013571</td>\n",
       "      <td>0.012493</td>\n",
       "      <td>-0.008557</td>\n",
       "      <td>0.004471</td>\n",
       "      <td>0.009401</td>\n",
       "      <td>0.050881</td>\n",
       "      <td>0.006386</td>\n",
       "    </tr>\n",
       "  </tbody>\n",
       "</table>\n",
       "<p>5 rows × 396 columns</p>\n",
       "</div>"
      ],
      "text/plain": [
       "   AMAZON.COM  ABBOTT LABORATORIES       AES   ABIOMED  \\\n",
       "0    0.009078             0.003038  0.023104  0.011834   \n",
       "1   -0.006960             0.001515  0.041710  0.028468   \n",
       "2    0.008430             0.012797 -0.009518 -0.007303   \n",
       "3    0.004606             0.019009  0.016010  0.020726   \n",
       "4   -0.016641             0.036495 -0.017206  0.040206   \n",
       "\n",
       "   INTERNATIONAL BUS.MCHS.  ADVANCED MICRO DEVC.  ADOBE SYSTEMS  \\\n",
       "0                -0.001705              0.057158       0.041341   \n",
       "1                -0.001341              0.004926      -0.002599   \n",
       "2                 0.006689              0.033820      -0.009152   \n",
       "3                 0.029265              0.002965       0.024135   \n",
       "4                -0.014466             -0.015814      -0.016023   \n",
       "\n",
       "   ALEXANDRIA RLST.EQTIES.  AIR PRDS.& CHEMS.  ALASKA AIR GROUP  ...  \\\n",
       "0                 0.022843           0.007071         -0.013245  ...   \n",
       "1                 0.003878          -0.011472          0.019664  ...   \n",
       "2                 0.012739          -0.008692         -0.010908  ...   \n",
       "3                 0.011399           0.023012         -0.008472  ...   \n",
       "4                 0.012903          -0.012794          0.016036  ...   \n",
       "\n",
       "   DENTSPLY SIRONA  S&P GLOBAL  WELLTOWER     XEROX        HP  DXC TECHNOLOGY  \\\n",
       "0         0.006313    0.003673   0.018993  0.017592  0.004881        0.010801   \n",
       "1         0.009212   -0.003673   0.010652 -0.001342  0.028774       -0.007253   \n",
       "2        -0.011435   -0.000969   0.020409 -0.010803 -0.007114        0.075583   \n",
       "3         0.015461    0.016726   0.004200 -0.006131  0.028166        0.006547   \n",
       "4         0.009815   -0.017308   0.014149  0.013571  0.012493       -0.008557   \n",
       "\n",
       "   WEC ENERGY GROUP  L3 TECHNOLOGIES  MONSTER BEVERAGE  SBA COMMS.  \n",
       "0          0.021277         0.013493          0.050852    0.028636  \n",
       "1          0.003253         0.006480         -0.006679    0.016155  \n",
       "2         -0.004005        -0.006879         -0.011340    0.000000  \n",
       "3          0.007496         0.011746          0.050511    0.000534  \n",
       "4          0.004471         0.009401          0.050881    0.006386  \n",
       "\n",
       "[5 rows x 396 columns]"
      ]
     },
     "execution_count": 38,
     "metadata": {},
     "output_type": "execute_result"
    }
   ],
   "source": [
    "ret.head()"
   ]
  },
  {
   "cell_type": "code",
   "execution_count": 39,
   "id": "6785189a",
   "metadata": {},
   "outputs": [
    {
     "data": {
      "text/plain": [
       "(3234, 396)"
      ]
     },
     "execution_count": 39,
     "metadata": {},
     "output_type": "execute_result"
    }
   ],
   "source": [
    "ret.shape"
   ]
  },
  {
   "cell_type": "code",
   "execution_count": 41,
   "id": "ed8b501e",
   "metadata": {},
   "outputs": [
    {
     "data": {
      "text/plain": [
       "161"
      ]
     },
     "execution_count": 41,
     "metadata": {},
     "output_type": "execute_result"
    }
   ],
   "source": [
    "3234//20"
   ]
  },
  {
   "cell_type": "code",
   "execution_count": 42,
   "id": "9d2eb292",
   "metadata": {},
   "outputs": [
    {
     "data": {
      "text/plain": [
       "161.7"
      ]
     },
     "execution_count": 42,
     "metadata": {},
     "output_type": "execute_result"
    }
   ],
   "source": [
    "3234/20"
   ]
  },
  {
   "cell_type": "code",
   "execution_count": 45,
   "id": "396e901e",
   "metadata": {},
   "outputs": [
    {
     "name": "stdout",
     "output_type": "stream",
     "text": [
      "0 60\n",
      "20 80\n",
      "40 100\n",
      "60 120\n",
      "80 140\n",
      "100 160\n",
      "120 180\n",
      "140 200\n",
      "160 220\n",
      "180 240\n"
     ]
    }
   ],
   "source": [
    "t = [x for x in range(10)]\n",
    "for i in t:\n",
    "    print(i*20, i*20+60)"
   ]
  },
  {
   "cell_type": "code",
   "execution_count": null,
   "id": "925fd3d0",
   "metadata": {},
   "outputs": [],
   "source": []
  }
 ],
 "metadata": {
  "kernelspec": {
   "display_name": "Python 3 (ipykernel)",
   "language": "python",
   "name": "python3"
  },
  "language_info": {
   "codemirror_mode": {
    "name": "ipython",
    "version": 3
   },
   "file_extension": ".py",
   "mimetype": "text/x-python",
   "name": "python",
   "nbconvert_exporter": "python",
   "pygments_lexer": "ipython3",
   "version": "3.9.7"
  }
 },
 "nbformat": 4,
 "nbformat_minor": 5
}
