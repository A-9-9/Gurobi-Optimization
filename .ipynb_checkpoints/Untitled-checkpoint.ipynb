{
 "cells": [
  {
   "cell_type": "code",
   "execution_count": 1,
   "id": "ae49a929",
   "metadata": {},
   "outputs": [],
   "source": [
    "import pandas as pd\n",
    "import copy\n",
    "import numpy as np\n",
    "\n",
    "from MV_S_previous_data import fn\n",
    "df = pd.read_excel('Naive_S_P500.xlsx', sheet_name='return')"
   ]
  },
  {
   "cell_type": "code",
   "execution_count": 2,
   "id": "0f4dc263",
   "metadata": {},
   "outputs": [
    {
     "data": {
      "text/html": [
       "<div>\n",
       "<style scoped>\n",
       "    .dataframe tbody tr th:only-of-type {\n",
       "        vertical-align: middle;\n",
       "    }\n",
       "\n",
       "    .dataframe tbody tr th {\n",
       "        vertical-align: top;\n",
       "    }\n",
       "\n",
       "    .dataframe thead th {\n",
       "        text-align: right;\n",
       "    }\n",
       "</style>\n",
       "<table border=\"1\" class=\"dataframe\">\n",
       "  <thead>\n",
       "    <tr style=\"text-align: right;\">\n",
       "      <th></th>\n",
       "      <th>Unnamed: 0</th>\n",
       "      <th>Date</th>\n",
       "      <th>AMAZON.COM</th>\n",
       "      <th>ABBOTT LABORATORIES</th>\n",
       "      <th>AES</th>\n",
       "      <th>ABIOMED</th>\n",
       "      <th>INTERNATIONAL BUS.MCHS.</th>\n",
       "      <th>ADVANCED MICRO DEVC.</th>\n",
       "      <th>ADOBE SYSTEMS</th>\n",
       "      <th>ALEXANDRIA RLST.EQTIES.</th>\n",
       "      <th>...</th>\n",
       "      <th>DENTSPLY SIRONA</th>\n",
       "      <th>S&amp;P GLOBAL</th>\n",
       "      <th>WELLTOWER</th>\n",
       "      <th>XEROX</th>\n",
       "      <th>HP</th>\n",
       "      <th>DXC TECHNOLOGY</th>\n",
       "      <th>WEC ENERGY GROUP</th>\n",
       "      <th>L3 TECHNOLOGIES</th>\n",
       "      <th>MONSTER BEVERAGE</th>\n",
       "      <th>SBA COMMS.</th>\n",
       "    </tr>\n",
       "  </thead>\n",
       "  <tbody>\n",
       "    <tr>\n",
       "      <th>0</th>\n",
       "      <td>60</td>\n",
       "      <td>2006-03-27</td>\n",
       "      <td>35.25</td>\n",
       "      <td>20.7944</td>\n",
       "      <td>16.93</td>\n",
       "      <td>13.13</td>\n",
       "      <td>83.08</td>\n",
       "      <td>35.33</td>\n",
       "      <td>35.79</td>\n",
       "      <td>94.61</td>\n",
       "      <td>...</td>\n",
       "      <td>28.710</td>\n",
       "      <td>56.99</td>\n",
       "      <td>37.13</td>\n",
       "      <td>39.6243</td>\n",
       "      <td>15.0321</td>\n",
       "      <td>20.7603</td>\n",
       "      <td>20.00</td>\n",
       "      <td>82.0495</td>\n",
       "      <td>5.0470</td>\n",
       "      <td>24.19</td>\n",
       "    </tr>\n",
       "    <tr>\n",
       "      <th>1</th>\n",
       "      <td>80</td>\n",
       "      <td>2006-04-24</td>\n",
       "      <td>35.79</td>\n",
       "      <td>19.6844</td>\n",
       "      <td>16.70</td>\n",
       "      <td>13.49</td>\n",
       "      <td>82.11</td>\n",
       "      <td>32.81</td>\n",
       "      <td>37.20</td>\n",
       "      <td>90.50</td>\n",
       "      <td>...</td>\n",
       "      <td>29.505</td>\n",
       "      <td>57.45</td>\n",
       "      <td>35.06</td>\n",
       "      <td>36.8843</td>\n",
       "      <td>14.9368</td>\n",
       "      <td>21.3689</td>\n",
       "      <td>19.64</td>\n",
       "      <td>81.8002</td>\n",
       "      <td>5.8354</td>\n",
       "      <td>23.73</td>\n",
       "    </tr>\n",
       "    <tr>\n",
       "      <th>2</th>\n",
       "      <td>100</td>\n",
       "      <td>2006-05-22</td>\n",
       "      <td>34.83</td>\n",
       "      <td>19.9763</td>\n",
       "      <td>18.03</td>\n",
       "      <td>12.12</td>\n",
       "      <td>80.02</td>\n",
       "      <td>33.18</td>\n",
       "      <td>29.91</td>\n",
       "      <td>84.95</td>\n",
       "      <td>...</td>\n",
       "      <td>29.875</td>\n",
       "      <td>51.74</td>\n",
       "      <td>33.52</td>\n",
       "      <td>36.0939</td>\n",
       "      <td>14.6099</td>\n",
       "      <td>20.1700</td>\n",
       "      <td>19.71</td>\n",
       "      <td>77.3309</td>\n",
       "      <td>7.4308</td>\n",
       "      <td>20.60</td>\n",
       "    </tr>\n",
       "    <tr>\n",
       "      <th>3</th>\n",
       "      <td>120</td>\n",
       "      <td>2006-06-19</td>\n",
       "      <td>35.07</td>\n",
       "      <td>20.2490</td>\n",
       "      <td>16.91</td>\n",
       "      <td>12.36</td>\n",
       "      <td>77.67</td>\n",
       "      <td>24.95</td>\n",
       "      <td>28.78</td>\n",
       "      <td>84.48</td>\n",
       "      <td>...</td>\n",
       "      <td>29.515</td>\n",
       "      <td>51.70</td>\n",
       "      <td>34.28</td>\n",
       "      <td>35.9886</td>\n",
       "      <td>15.2410</td>\n",
       "      <td>20.2173</td>\n",
       "      <td>19.64</td>\n",
       "      <td>71.6531</td>\n",
       "      <td>6.6146</td>\n",
       "      <td>22.23</td>\n",
       "    </tr>\n",
       "    <tr>\n",
       "      <th>4</th>\n",
       "      <td>140</td>\n",
       "      <td>2006-07-17</td>\n",
       "      <td>33.67</td>\n",
       "      <td>21.2825</td>\n",
       "      <td>19.75</td>\n",
       "      <td>12.42</td>\n",
       "      <td>73.70</td>\n",
       "      <td>20.92</td>\n",
       "      <td>27.59</td>\n",
       "      <td>89.65</td>\n",
       "      <td>...</td>\n",
       "      <td>29.230</td>\n",
       "      <td>48.82</td>\n",
       "      <td>34.73</td>\n",
       "      <td>35.9095</td>\n",
       "      <td>14.1650</td>\n",
       "      <td>18.4682</td>\n",
       "      <td>20.27</td>\n",
       "      <td>71.0585</td>\n",
       "      <td>7.8583</td>\n",
       "      <td>22.66</td>\n",
       "    </tr>\n",
       "  </tbody>\n",
       "</table>\n",
       "<p>5 rows × 398 columns</p>\n",
       "</div>"
      ],
      "text/plain": [
       "   Unnamed: 0       Date  AMAZON.COM  ABBOTT LABORATORIES    AES  ABIOMED  \\\n",
       "0          60 2006-03-27       35.25              20.7944  16.93    13.13   \n",
       "1          80 2006-04-24       35.79              19.6844  16.70    13.49   \n",
       "2         100 2006-05-22       34.83              19.9763  18.03    12.12   \n",
       "3         120 2006-06-19       35.07              20.2490  16.91    12.36   \n",
       "4         140 2006-07-17       33.67              21.2825  19.75    12.42   \n",
       "\n",
       "   INTERNATIONAL BUS.MCHS.  ADVANCED MICRO DEVC.  ADOBE SYSTEMS  \\\n",
       "0                    83.08                 35.33          35.79   \n",
       "1                    82.11                 32.81          37.20   \n",
       "2                    80.02                 33.18          29.91   \n",
       "3                    77.67                 24.95          28.78   \n",
       "4                    73.70                 20.92          27.59   \n",
       "\n",
       "   ALEXANDRIA RLST.EQTIES.  ...  DENTSPLY SIRONA  S&P GLOBAL  WELLTOWER  \\\n",
       "0                    94.61  ...           28.710       56.99      37.13   \n",
       "1                    90.50  ...           29.505       57.45      35.06   \n",
       "2                    84.95  ...           29.875       51.74      33.52   \n",
       "3                    84.48  ...           29.515       51.70      34.28   \n",
       "4                    89.65  ...           29.230       48.82      34.73   \n",
       "\n",
       "     XEROX       HP  DXC TECHNOLOGY  WEC ENERGY GROUP  L3 TECHNOLOGIES  \\\n",
       "0  39.6243  15.0321         20.7603             20.00          82.0495   \n",
       "1  36.8843  14.9368         21.3689             19.64          81.8002   \n",
       "2  36.0939  14.6099         20.1700             19.71          77.3309   \n",
       "3  35.9886  15.2410         20.2173             19.64          71.6531   \n",
       "4  35.9095  14.1650         18.4682             20.27          71.0585   \n",
       "\n",
       "   MONSTER BEVERAGE  SBA COMMS.  \n",
       "0            5.0470       24.19  \n",
       "1            5.8354       23.73  \n",
       "2            7.4308       20.60  \n",
       "3            6.6146       22.23  \n",
       "4            7.8583       22.66  \n",
       "\n",
       "[5 rows x 398 columns]"
      ]
     },
     "execution_count": 2,
     "metadata": {},
     "output_type": "execute_result"
    }
   ],
   "source": [
    "df = pd.read_excel('Naive_S_P500.xlsx', sheet_name='price')\n",
    "df.head()"
   ]
  },
  {
   "cell_type": "code",
   "execution_count": 3,
   "id": "96d5116b",
   "metadata": {},
   "outputs": [
    {
     "data": {
      "text/html": [
       "<div>\n",
       "<style scoped>\n",
       "    .dataframe tbody tr th:only-of-type {\n",
       "        vertical-align: middle;\n",
       "    }\n",
       "\n",
       "    .dataframe tbody tr th {\n",
       "        vertical-align: top;\n",
       "    }\n",
       "\n",
       "    .dataframe thead th {\n",
       "        text-align: right;\n",
       "    }\n",
       "</style>\n",
       "<table border=\"1\" class=\"dataframe\">\n",
       "  <thead>\n",
       "    <tr style=\"text-align: right;\">\n",
       "      <th></th>\n",
       "      <th>AMAZON.COM</th>\n",
       "      <th>ABBOTT LABORATORIES</th>\n",
       "      <th>AES</th>\n",
       "      <th>ABIOMED</th>\n",
       "      <th>INTERNATIONAL BUS.MCHS.</th>\n",
       "      <th>ADVANCED MICRO DEVC.</th>\n",
       "      <th>ADOBE SYSTEMS</th>\n",
       "      <th>ALEXANDRIA RLST.EQTIES.</th>\n",
       "      <th>AIR PRDS.&amp; CHEMS.</th>\n",
       "      <th>ALASKA AIR GROUP</th>\n",
       "      <th>...</th>\n",
       "      <th>DENTSPLY SIRONA</th>\n",
       "      <th>S&amp;P GLOBAL</th>\n",
       "      <th>WELLTOWER</th>\n",
       "      <th>XEROX</th>\n",
       "      <th>HP</th>\n",
       "      <th>DXC TECHNOLOGY</th>\n",
       "      <th>WEC ENERGY GROUP</th>\n",
       "      <th>L3 TECHNOLOGIES</th>\n",
       "      <th>MONSTER BEVERAGE</th>\n",
       "      <th>SBA COMMS.</th>\n",
       "    </tr>\n",
       "  </thead>\n",
       "  <tbody>\n",
       "    <tr>\n",
       "      <th>0</th>\n",
       "      <td>35.25</td>\n",
       "      <td>20.7944</td>\n",
       "      <td>16.93</td>\n",
       "      <td>13.13</td>\n",
       "      <td>83.08</td>\n",
       "      <td>35.33</td>\n",
       "      <td>35.79</td>\n",
       "      <td>94.61</td>\n",
       "      <td>61.2574</td>\n",
       "      <td>8.7525</td>\n",
       "      <td>...</td>\n",
       "      <td>28.71</td>\n",
       "      <td>56.99</td>\n",
       "      <td>37.13</td>\n",
       "      <td>39.6243</td>\n",
       "      <td>15.0321</td>\n",
       "      <td>20.7603</td>\n",
       "      <td>20.0</td>\n",
       "      <td>82.0495</td>\n",
       "      <td>5.047</td>\n",
       "      <td>24.19</td>\n",
       "    </tr>\n",
       "  </tbody>\n",
       "</table>\n",
       "<p>1 rows × 396 columns</p>\n",
       "</div>"
      ],
      "text/plain": [
       "   AMAZON.COM  ABBOTT LABORATORIES    AES  ABIOMED  INTERNATIONAL BUS.MCHS.  \\\n",
       "0       35.25              20.7944  16.93    13.13                    83.08   \n",
       "\n",
       "   ADVANCED MICRO DEVC.  ADOBE SYSTEMS  ALEXANDRIA RLST.EQTIES.  \\\n",
       "0                 35.33          35.79                    94.61   \n",
       "\n",
       "   AIR PRDS.& CHEMS.  ALASKA AIR GROUP  ...  DENTSPLY SIRONA  S&P GLOBAL  \\\n",
       "0            61.2574            8.7525  ...            28.71       56.99   \n",
       "\n",
       "   WELLTOWER    XEROX       HP  DXC TECHNOLOGY  WEC ENERGY GROUP  \\\n",
       "0      37.13  39.6243  15.0321         20.7603              20.0   \n",
       "\n",
       "   L3 TECHNOLOGIES  MONSTER BEVERAGE  SBA COMMS.  \n",
       "0          82.0495             5.047       24.19  \n",
       "\n",
       "[1 rows x 396 columns]"
      ]
     },
     "execution_count": 3,
     "metadata": {},
     "output_type": "execute_result"
    }
   ],
   "source": [
    "ret = copy.deepcopy(df.drop(columns=['Unnamed: 0']))\n",
    "ret = ret.iloc[0:1, 1:397]\n",
    "ret.head()\n"
   ]
  },
  {
   "cell_type": "code",
   "execution_count": 17,
   "id": "b5ab555b",
   "metadata": {},
   "outputs": [
    {
     "data": {
      "text/plain": [
       "(1, 396)"
      ]
     },
     "execution_count": 17,
     "metadata": {},
     "output_type": "execute_result"
    }
   ],
   "source": [
    "ret.shape"
   ]
  },
  {
   "cell_type": "code",
   "execution_count": 5,
   "id": "849484d1",
   "metadata": {},
   "outputs": [
    {
     "data": {
      "text/plain": [
       "20.7944"
      ]
     },
     "execution_count": 5,
     "metadata": {},
     "output_type": "execute_result"
    }
   ],
   "source": [
    "ret.iloc[0, 1]"
   ]
  },
  {
   "cell_type": "code",
   "execution_count": 6,
   "id": "5aa7169d",
   "metadata": {},
   "outputs": [
    {
     "data": {
      "text/plain": [
       "numpy.float64"
      ]
     },
     "execution_count": 6,
     "metadata": {},
     "output_type": "execute_result"
    }
   ],
   "source": [
    "type(ret.iloc[0, 1])"
   ]
  },
  {
   "cell_type": "code",
   "execution_count": 8,
   "id": "c22b8426",
   "metadata": {},
   "outputs": [
    {
     "data": {
      "text/plain": [
       "(1, 396)"
      ]
     },
     "execution_count": 8,
     "metadata": {},
     "output_type": "execute_result"
    }
   ],
   "source": [
    "ret.shape"
   ]
  },
  {
   "cell_type": "code",
   "execution_count": 19,
   "id": "83fa0bc6",
   "metadata": {},
   "outputs": [
    {
     "data": {
      "text/plain": [
       "24.19"
      ]
     },
     "execution_count": 19,
     "metadata": {},
     "output_type": "execute_result"
    }
   ],
   "source": [
    "ret.iloc[0, 395]"
   ]
  },
  {
   "cell_type": "code",
   "execution_count": null,
   "id": "4c021ccb",
   "metadata": {},
   "outputs": [],
   "source": []
  },
  {
   "cell_type": "code",
   "execution_count": null,
   "id": "85117066",
   "metadata": {},
   "outputs": [],
   "source": []
  },
  {
   "cell_type": "code",
   "execution_count": 24,
   "id": "5533594c",
   "metadata": {},
   "outputs": [
    {
     "data": {
      "text/plain": [
       "{}"
      ]
     },
     "execution_count": 24,
     "metadata": {},
     "output_type": "execute_result"
    }
   ],
   "source": [
    "w1, w2 = {}, {}\n",
    "w1"
   ]
  },
  {
   "cell_type": "code",
   "execution_count": 25,
   "id": "d139742b",
   "metadata": {},
   "outputs": [
    {
     "data": {
      "text/plain": [
       "{}"
      ]
     },
     "execution_count": 25,
     "metadata": {},
     "output_type": "execute_result"
    }
   ],
   "source": [
    "w2"
   ]
  },
  {
   "cell_type": "code",
   "execution_count": 30,
   "id": "a9454ddc",
   "metadata": {},
   "outputs": [],
   "source": [
    "import pandas as pd\n",
    "import copy\n",
    "import numpy as np\n",
    "\n",
    "df = pd.read_excel('Naive_S_P500.xlsx', sheet_name='return')\n",
    "ret = copy.deepcopy(df.drop(columns=['Unnamed: 0']))\n",
    "ret = ret.iloc[20:80, 1:397]\n",
    "\n",
    "df = pd.read_excel('Naive_S_P500.xlsx', sheet_name='price')\n",
    "price = copy.deepcopy(df.drop(columns=['Unnamed: 0']))\n",
    "price = price.iloc[0:1, 1:397]\n",
    "\n",
    "n = [i for i in range(396)]\n",
    "cov = ret.cov()\n",
    "var = ret.var()\n",
    "mean = ret.mean()\n",
    "\n",
    "# Mission: Calculate the previous weight -> w[i] = w[i-1] * price[i]\n",
    "w_buy_b4_calc, w_minus_b4_calc = [x for x in range(396)], [x for x in range(396)]\n",
    "\n",
    "# w_buy_b4_calc: 1*n\n",
    "w_buy_cur = {}\n",
    "w_minus_cur = {}\n",
    "\n",
    "# for i in range(396):\n",
    "#     w_buy_cur[i] = w_buy_b4_calc[i]*price.iloc[0, i]\n",
    "#     w_minus_cur[i] = w_minus_b4_calc[i]*price.iloc[0, i]"
   ]
  },
  {
   "cell_type": "code",
   "execution_count": 31,
   "id": "65363e57",
   "metadata": {},
   "outputs": [
    {
     "data": {
      "text/plain": [
       "395"
      ]
     },
     "execution_count": 31,
     "metadata": {},
     "output_type": "execute_result"
    }
   ],
   "source": [
    "# w_buy_cur[i] = w_buy_b4_calc[i]*price.iloc[0, i]\n",
    "# w_buy_cur[395]\n",
    "w_buy_b4_calc[i]"
   ]
  },
  {
   "cell_type": "code",
   "execution_count": 32,
   "id": "2f2c8832",
   "metadata": {},
   "outputs": [
    {
     "ename": "IndexError",
     "evalue": "single positional indexer is out-of-bounds",
     "output_type": "error",
     "traceback": [
      "\u001b[0;31m---------------------------------------------------------------------------\u001b[0m",
      "\u001b[0;31mIndexError\u001b[0m                                Traceback (most recent call last)",
      "\u001b[0;32m/var/folders/4s/hn4hc12s7gz8fz07_xnmjjbw0000gn/T/ipykernel_2845/1668059740.py\u001b[0m in \u001b[0;36m<module>\u001b[0;34m\u001b[0m\n\u001b[0;32m----> 1\u001b[0;31m \u001b[0mprice\u001b[0m\u001b[0;34m.\u001b[0m\u001b[0miloc\u001b[0m\u001b[0;34m[\u001b[0m\u001b[0;36m0\u001b[0m\u001b[0;34m,\u001b[0m \u001b[0;36m395\u001b[0m\u001b[0;34m]\u001b[0m\u001b[0;34m\u001b[0m\u001b[0;34m\u001b[0m\u001b[0m\n\u001b[0m",
      "\u001b[0;32m/Applications/anaconda3/lib/python3.9/site-packages/pandas/core/indexing.py\u001b[0m in \u001b[0;36m__getitem__\u001b[0;34m(self, key)\u001b[0m\n\u001b[1;32m    923\u001b[0m                 \u001b[0;32mwith\u001b[0m \u001b[0msuppress\u001b[0m\u001b[0;34m(\u001b[0m\u001b[0mKeyError\u001b[0m\u001b[0;34m,\u001b[0m \u001b[0mIndexError\u001b[0m\u001b[0;34m)\u001b[0m\u001b[0;34m:\u001b[0m\u001b[0;34m\u001b[0m\u001b[0;34m\u001b[0m\u001b[0m\n\u001b[1;32m    924\u001b[0m                     \u001b[0;32mreturn\u001b[0m \u001b[0mself\u001b[0m\u001b[0;34m.\u001b[0m\u001b[0mobj\u001b[0m\u001b[0;34m.\u001b[0m\u001b[0m_get_value\u001b[0m\u001b[0;34m(\u001b[0m\u001b[0;34m*\u001b[0m\u001b[0mkey\u001b[0m\u001b[0;34m,\u001b[0m \u001b[0mtakeable\u001b[0m\u001b[0;34m=\u001b[0m\u001b[0mself\u001b[0m\u001b[0;34m.\u001b[0m\u001b[0m_takeable\u001b[0m\u001b[0;34m)\u001b[0m\u001b[0;34m\u001b[0m\u001b[0;34m\u001b[0m\u001b[0m\n\u001b[0;32m--> 925\u001b[0;31m             \u001b[0;32mreturn\u001b[0m \u001b[0mself\u001b[0m\u001b[0;34m.\u001b[0m\u001b[0m_getitem_tuple\u001b[0m\u001b[0;34m(\u001b[0m\u001b[0mkey\u001b[0m\u001b[0;34m)\u001b[0m\u001b[0;34m\u001b[0m\u001b[0;34m\u001b[0m\u001b[0m\n\u001b[0m\u001b[1;32m    926\u001b[0m         \u001b[0;32melse\u001b[0m\u001b[0;34m:\u001b[0m\u001b[0;34m\u001b[0m\u001b[0;34m\u001b[0m\u001b[0m\n\u001b[1;32m    927\u001b[0m             \u001b[0;31m# we by definition only have the 0th axis\u001b[0m\u001b[0;34m\u001b[0m\u001b[0;34m\u001b[0m\u001b[0m\n",
      "\u001b[0;32m/Applications/anaconda3/lib/python3.9/site-packages/pandas/core/indexing.py\u001b[0m in \u001b[0;36m_getitem_tuple\u001b[0;34m(self, tup)\u001b[0m\n\u001b[1;32m   1504\u001b[0m     \u001b[0;32mdef\u001b[0m \u001b[0m_getitem_tuple\u001b[0m\u001b[0;34m(\u001b[0m\u001b[0mself\u001b[0m\u001b[0;34m,\u001b[0m \u001b[0mtup\u001b[0m\u001b[0;34m:\u001b[0m \u001b[0mtuple\u001b[0m\u001b[0;34m)\u001b[0m\u001b[0;34m:\u001b[0m\u001b[0;34m\u001b[0m\u001b[0;34m\u001b[0m\u001b[0m\n\u001b[1;32m   1505\u001b[0m \u001b[0;34m\u001b[0m\u001b[0m\n\u001b[0;32m-> 1506\u001b[0;31m         \u001b[0mself\u001b[0m\u001b[0;34m.\u001b[0m\u001b[0m_has_valid_tuple\u001b[0m\u001b[0;34m(\u001b[0m\u001b[0mtup\u001b[0m\u001b[0;34m)\u001b[0m\u001b[0;34m\u001b[0m\u001b[0;34m\u001b[0m\u001b[0m\n\u001b[0m\u001b[1;32m   1507\u001b[0m         \u001b[0;32mwith\u001b[0m \u001b[0msuppress\u001b[0m\u001b[0;34m(\u001b[0m\u001b[0mIndexingError\u001b[0m\u001b[0;34m)\u001b[0m\u001b[0;34m:\u001b[0m\u001b[0;34m\u001b[0m\u001b[0;34m\u001b[0m\u001b[0m\n\u001b[1;32m   1508\u001b[0m             \u001b[0;32mreturn\u001b[0m \u001b[0mself\u001b[0m\u001b[0;34m.\u001b[0m\u001b[0m_getitem_lowerdim\u001b[0m\u001b[0;34m(\u001b[0m\u001b[0mtup\u001b[0m\u001b[0;34m)\u001b[0m\u001b[0;34m\u001b[0m\u001b[0;34m\u001b[0m\u001b[0m\n",
      "\u001b[0;32m/Applications/anaconda3/lib/python3.9/site-packages/pandas/core/indexing.py\u001b[0m in \u001b[0;36m_has_valid_tuple\u001b[0;34m(self, key)\u001b[0m\n\u001b[1;32m    752\u001b[0m         \u001b[0;32mfor\u001b[0m \u001b[0mi\u001b[0m\u001b[0;34m,\u001b[0m \u001b[0mk\u001b[0m \u001b[0;32min\u001b[0m \u001b[0menumerate\u001b[0m\u001b[0;34m(\u001b[0m\u001b[0mkey\u001b[0m\u001b[0;34m)\u001b[0m\u001b[0;34m:\u001b[0m\u001b[0;34m\u001b[0m\u001b[0;34m\u001b[0m\u001b[0m\n\u001b[1;32m    753\u001b[0m             \u001b[0;32mtry\u001b[0m\u001b[0;34m:\u001b[0m\u001b[0;34m\u001b[0m\u001b[0;34m\u001b[0m\u001b[0m\n\u001b[0;32m--> 754\u001b[0;31m                 \u001b[0mself\u001b[0m\u001b[0;34m.\u001b[0m\u001b[0m_validate_key\u001b[0m\u001b[0;34m(\u001b[0m\u001b[0mk\u001b[0m\u001b[0;34m,\u001b[0m \u001b[0mi\u001b[0m\u001b[0;34m)\u001b[0m\u001b[0;34m\u001b[0m\u001b[0;34m\u001b[0m\u001b[0m\n\u001b[0m\u001b[1;32m    755\u001b[0m             \u001b[0;32mexcept\u001b[0m \u001b[0mValueError\u001b[0m \u001b[0;32mas\u001b[0m \u001b[0merr\u001b[0m\u001b[0;34m:\u001b[0m\u001b[0;34m\u001b[0m\u001b[0;34m\u001b[0m\u001b[0m\n\u001b[1;32m    756\u001b[0m                 raise ValueError(\n",
      "\u001b[0;32m/Applications/anaconda3/lib/python3.9/site-packages/pandas/core/indexing.py\u001b[0m in \u001b[0;36m_validate_key\u001b[0;34m(self, key, axis)\u001b[0m\n\u001b[1;32m   1407\u001b[0m             \u001b[0;32mreturn\u001b[0m\u001b[0;34m\u001b[0m\u001b[0;34m\u001b[0m\u001b[0m\n\u001b[1;32m   1408\u001b[0m         \u001b[0;32melif\u001b[0m \u001b[0mis_integer\u001b[0m\u001b[0;34m(\u001b[0m\u001b[0mkey\u001b[0m\u001b[0;34m)\u001b[0m\u001b[0;34m:\u001b[0m\u001b[0;34m\u001b[0m\u001b[0;34m\u001b[0m\u001b[0m\n\u001b[0;32m-> 1409\u001b[0;31m             \u001b[0mself\u001b[0m\u001b[0;34m.\u001b[0m\u001b[0m_validate_integer\u001b[0m\u001b[0;34m(\u001b[0m\u001b[0mkey\u001b[0m\u001b[0;34m,\u001b[0m \u001b[0maxis\u001b[0m\u001b[0;34m)\u001b[0m\u001b[0;34m\u001b[0m\u001b[0;34m\u001b[0m\u001b[0m\n\u001b[0m\u001b[1;32m   1410\u001b[0m         \u001b[0;32melif\u001b[0m \u001b[0misinstance\u001b[0m\u001b[0;34m(\u001b[0m\u001b[0mkey\u001b[0m\u001b[0;34m,\u001b[0m \u001b[0mtuple\u001b[0m\u001b[0;34m)\u001b[0m\u001b[0;34m:\u001b[0m\u001b[0;34m\u001b[0m\u001b[0;34m\u001b[0m\u001b[0m\n\u001b[1;32m   1411\u001b[0m             \u001b[0;31m# a tuple should already have been caught by this point\u001b[0m\u001b[0;34m\u001b[0m\u001b[0;34m\u001b[0m\u001b[0m\n",
      "\u001b[0;32m/Applications/anaconda3/lib/python3.9/site-packages/pandas/core/indexing.py\u001b[0m in \u001b[0;36m_validate_integer\u001b[0;34m(self, key, axis)\u001b[0m\n\u001b[1;32m   1498\u001b[0m         \u001b[0mlen_axis\u001b[0m \u001b[0;34m=\u001b[0m \u001b[0mlen\u001b[0m\u001b[0;34m(\u001b[0m\u001b[0mself\u001b[0m\u001b[0;34m.\u001b[0m\u001b[0mobj\u001b[0m\u001b[0;34m.\u001b[0m\u001b[0m_get_axis\u001b[0m\u001b[0;34m(\u001b[0m\u001b[0maxis\u001b[0m\u001b[0;34m)\u001b[0m\u001b[0;34m)\u001b[0m\u001b[0;34m\u001b[0m\u001b[0;34m\u001b[0m\u001b[0m\n\u001b[1;32m   1499\u001b[0m         \u001b[0;32mif\u001b[0m \u001b[0mkey\u001b[0m \u001b[0;34m>=\u001b[0m \u001b[0mlen_axis\u001b[0m \u001b[0;32mor\u001b[0m \u001b[0mkey\u001b[0m \u001b[0;34m<\u001b[0m \u001b[0;34m-\u001b[0m\u001b[0mlen_axis\u001b[0m\u001b[0;34m:\u001b[0m\u001b[0;34m\u001b[0m\u001b[0;34m\u001b[0m\u001b[0m\n\u001b[0;32m-> 1500\u001b[0;31m             \u001b[0;32mraise\u001b[0m \u001b[0mIndexError\u001b[0m\u001b[0;34m(\u001b[0m\u001b[0;34m\"single positional indexer is out-of-bounds\"\u001b[0m\u001b[0;34m)\u001b[0m\u001b[0;34m\u001b[0m\u001b[0;34m\u001b[0m\u001b[0m\n\u001b[0m\u001b[1;32m   1501\u001b[0m \u001b[0;34m\u001b[0m\u001b[0m\n\u001b[1;32m   1502\u001b[0m     \u001b[0;31m# -------------------------------------------------------------------\u001b[0m\u001b[0;34m\u001b[0m\u001b[0;34m\u001b[0m\u001b[0m\n",
      "\u001b[0;31mIndexError\u001b[0m: single positional indexer is out-of-bounds"
     ]
    }
   ],
   "source": [
    "price.iloc[0, 395]"
   ]
  },
  {
   "cell_type": "code",
   "execution_count": null,
   "id": "6ec6e1e2",
   "metadata": {},
   "outputs": [],
   "source": []
  }
 ],
 "metadata": {
  "kernelspec": {
   "display_name": "Python 3 (ipykernel)",
   "language": "python",
   "name": "python3"
  },
  "language_info": {
   "codemirror_mode": {
    "name": "ipython",
    "version": 3
   },
   "file_extension": ".py",
   "mimetype": "text/x-python",
   "name": "python",
   "nbconvert_exporter": "python",
   "pygments_lexer": "ipython3",
   "version": "3.9.7"
  }
 },
 "nbformat": 4,
 "nbformat_minor": 5
}
